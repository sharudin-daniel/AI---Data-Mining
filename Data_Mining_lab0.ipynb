{
  "nbformat": 4,
  "nbformat_minor": 0,
  "metadata": {
    "colab": {
      "name": "Data Mining  lab0.ipynb",
      "provenance": [],
      "collapsed_sections": []
    },
    "kernelspec": {
      "name": "python3",
      "display_name": "Python 3"
    },
    "language_info": {
      "name": "python"
    }
  },
  "cells": [
    {
      "cell_type": "markdown",
      "source": [
        "## Выжившие пассажиры Титаника\n",
        "\n",
        "Будем анализировать данные пассажиров Титаника, дабы установить, какие факторы могут повысить шансы на выживание при кораблекрушении"
      ],
      "metadata": {
        "id": "o9XILlMol6ik"
      }
    },
    {
      "cell_type": "code",
      "execution_count": 1,
      "metadata": {
        "id": "rSHuZO77frFI"
      },
      "outputs": [],
      "source": [
        "import matplotlib.pyplot as plt\n",
        "import numpy as np\n",
        "import pandas as pd\n",
        "import seaborn as sns"
      ]
    },
    {
      "cell_type": "markdown",
      "source": [
        "Загрузим данные пассажиров Титаника и статистику выживших\n",
        "\n",
        "\n"
      ],
      "metadata": {
        "id": "gyuzEi_3hCpl"
      }
    },
    {
      "cell_type": "code",
      "source": [
        "d1 = pd.read_csv('titanic_data.csv')\n",
        "d2 = pd.read_csv('titanic_surv.csv')"
      ],
      "metadata": {
        "id": "asGCqk6phAyJ"
      },
      "execution_count": 2,
      "outputs": []
    },
    {
      "cell_type": "markdown",
      "source": [
        "Теперь соединим две таблицы в одну"
      ],
      "metadata": {
        "id": "DSuGlzJEnL-e"
      }
    },
    {
      "cell_type": "code",
      "source": [
        "data = pd.concat([d1, d2], axis=1)"
      ],
      "metadata": {
        "id": "CuDVAwUynLua"
      },
      "execution_count": 3,
      "outputs": []
    },
    {
      "cell_type": "code",
      "source": [
        "data.head(5)\n"
      ],
      "metadata": {
        "colab": {
          "base_uri": "https://localhost:8080/",
          "height": 206
        },
        "id": "sR8HcQowiBFC",
        "outputId": "f2d1db2a-bba7-43dd-c9f5-86e0abcb0e53"
      },
      "execution_count": 4,
      "outputs": [
        {
          "output_type": "execute_result",
          "data": {
            "text/plain": [
              "   PassengerId  Pclass                                               Name  \\\n",
              "0            1       3                            Braund, Mr. Owen Harris   \n",
              "1            2       1  Cumings, Mrs. John Bradley (Florence Briggs Th...   \n",
              "2            3       3                             Heikkinen, Miss. Laina   \n",
              "3            4       1       Futrelle, Mrs. Jacques Heath (Lily May Peel)   \n",
              "4            5       3                           Allen, Mr. William Henry   \n",
              "\n",
              "      Sex   Age  SibSp  Parch            Ticket     Fare Cabin Embarked  \\\n",
              "0    male  22.0      1      0         A/5 21171   7.2500   NaN        S   \n",
              "1  female  38.0      1      0          PC 17599  71.2833   C85        C   \n",
              "2  female  26.0      0      0  STON/O2. 3101282   7.9250   NaN        S   \n",
              "3  female  35.0      1      0            113803  53.1000  C123        S   \n",
              "4    male  35.0      0      0            373450   8.0500   NaN        S   \n",
              "\n",
              "   Survived  \n",
              "0         0  \n",
              "1         1  \n",
              "2         1  \n",
              "3         1  \n",
              "4         0  "
            ],
            "text/html": [
              "\n",
              "  <div id=\"df-208cddf4-e170-4791-a168-15822e82576e\">\n",
              "    <div class=\"colab-df-container\">\n",
              "      <div>\n",
              "<style scoped>\n",
              "    .dataframe tbody tr th:only-of-type {\n",
              "        vertical-align: middle;\n",
              "    }\n",
              "\n",
              "    .dataframe tbody tr th {\n",
              "        vertical-align: top;\n",
              "    }\n",
              "\n",
              "    .dataframe thead th {\n",
              "        text-align: right;\n",
              "    }\n",
              "</style>\n",
              "<table border=\"1\" class=\"dataframe\">\n",
              "  <thead>\n",
              "    <tr style=\"text-align: right;\">\n",
              "      <th></th>\n",
              "      <th>PassengerId</th>\n",
              "      <th>Pclass</th>\n",
              "      <th>Name</th>\n",
              "      <th>Sex</th>\n",
              "      <th>Age</th>\n",
              "      <th>SibSp</th>\n",
              "      <th>Parch</th>\n",
              "      <th>Ticket</th>\n",
              "      <th>Fare</th>\n",
              "      <th>Cabin</th>\n",
              "      <th>Embarked</th>\n",
              "      <th>Survived</th>\n",
              "    </tr>\n",
              "  </thead>\n",
              "  <tbody>\n",
              "    <tr>\n",
              "      <th>0</th>\n",
              "      <td>1</td>\n",
              "      <td>3</td>\n",
              "      <td>Braund, Mr. Owen Harris</td>\n",
              "      <td>male</td>\n",
              "      <td>22.0</td>\n",
              "      <td>1</td>\n",
              "      <td>0</td>\n",
              "      <td>A/5 21171</td>\n",
              "      <td>7.2500</td>\n",
              "      <td>NaN</td>\n",
              "      <td>S</td>\n",
              "      <td>0</td>\n",
              "    </tr>\n",
              "    <tr>\n",
              "      <th>1</th>\n",
              "      <td>2</td>\n",
              "      <td>1</td>\n",
              "      <td>Cumings, Mrs. John Bradley (Florence Briggs Th...</td>\n",
              "      <td>female</td>\n",
              "      <td>38.0</td>\n",
              "      <td>1</td>\n",
              "      <td>0</td>\n",
              "      <td>PC 17599</td>\n",
              "      <td>71.2833</td>\n",
              "      <td>C85</td>\n",
              "      <td>C</td>\n",
              "      <td>1</td>\n",
              "    </tr>\n",
              "    <tr>\n",
              "      <th>2</th>\n",
              "      <td>3</td>\n",
              "      <td>3</td>\n",
              "      <td>Heikkinen, Miss. Laina</td>\n",
              "      <td>female</td>\n",
              "      <td>26.0</td>\n",
              "      <td>0</td>\n",
              "      <td>0</td>\n",
              "      <td>STON/O2. 3101282</td>\n",
              "      <td>7.9250</td>\n",
              "      <td>NaN</td>\n",
              "      <td>S</td>\n",
              "      <td>1</td>\n",
              "    </tr>\n",
              "    <tr>\n",
              "      <th>3</th>\n",
              "      <td>4</td>\n",
              "      <td>1</td>\n",
              "      <td>Futrelle, Mrs. Jacques Heath (Lily May Peel)</td>\n",
              "      <td>female</td>\n",
              "      <td>35.0</td>\n",
              "      <td>1</td>\n",
              "      <td>0</td>\n",
              "      <td>113803</td>\n",
              "      <td>53.1000</td>\n",
              "      <td>C123</td>\n",
              "      <td>S</td>\n",
              "      <td>1</td>\n",
              "    </tr>\n",
              "    <tr>\n",
              "      <th>4</th>\n",
              "      <td>5</td>\n",
              "      <td>3</td>\n",
              "      <td>Allen, Mr. William Henry</td>\n",
              "      <td>male</td>\n",
              "      <td>35.0</td>\n",
              "      <td>0</td>\n",
              "      <td>0</td>\n",
              "      <td>373450</td>\n",
              "      <td>8.0500</td>\n",
              "      <td>NaN</td>\n",
              "      <td>S</td>\n",
              "      <td>0</td>\n",
              "    </tr>\n",
              "  </tbody>\n",
              "</table>\n",
              "</div>\n",
              "      <button class=\"colab-df-convert\" onclick=\"convertToInteractive('df-208cddf4-e170-4791-a168-15822e82576e')\"\n",
              "              title=\"Convert this dataframe to an interactive table.\"\n",
              "              style=\"display:none;\">\n",
              "        \n",
              "  <svg xmlns=\"http://www.w3.org/2000/svg\" height=\"24px\"viewBox=\"0 0 24 24\"\n",
              "       width=\"24px\">\n",
              "    <path d=\"M0 0h24v24H0V0z\" fill=\"none\"/>\n",
              "    <path d=\"M18.56 5.44l.94 2.06.94-2.06 2.06-.94-2.06-.94-.94-2.06-.94 2.06-2.06.94zm-11 1L8.5 8.5l.94-2.06 2.06-.94-2.06-.94L8.5 2.5l-.94 2.06-2.06.94zm10 10l.94 2.06.94-2.06 2.06-.94-2.06-.94-.94-2.06-.94 2.06-2.06.94z\"/><path d=\"M17.41 7.96l-1.37-1.37c-.4-.4-.92-.59-1.43-.59-.52 0-1.04.2-1.43.59L10.3 9.45l-7.72 7.72c-.78.78-.78 2.05 0 2.83L4 21.41c.39.39.9.59 1.41.59.51 0 1.02-.2 1.41-.59l7.78-7.78 2.81-2.81c.8-.78.8-2.07 0-2.86zM5.41 20L4 18.59l7.72-7.72 1.47 1.35L5.41 20z\"/>\n",
              "  </svg>\n",
              "      </button>\n",
              "      \n",
              "  <style>\n",
              "    .colab-df-container {\n",
              "      display:flex;\n",
              "      flex-wrap:wrap;\n",
              "      gap: 12px;\n",
              "    }\n",
              "\n",
              "    .colab-df-convert {\n",
              "      background-color: #E8F0FE;\n",
              "      border: none;\n",
              "      border-radius: 50%;\n",
              "      cursor: pointer;\n",
              "      display: none;\n",
              "      fill: #1967D2;\n",
              "      height: 32px;\n",
              "      padding: 0 0 0 0;\n",
              "      width: 32px;\n",
              "    }\n",
              "\n",
              "    .colab-df-convert:hover {\n",
              "      background-color: #E2EBFA;\n",
              "      box-shadow: 0px 1px 2px rgba(60, 64, 67, 0.3), 0px 1px 3px 1px rgba(60, 64, 67, 0.15);\n",
              "      fill: #174EA6;\n",
              "    }\n",
              "\n",
              "    [theme=dark] .colab-df-convert {\n",
              "      background-color: #3B4455;\n",
              "      fill: #D2E3FC;\n",
              "    }\n",
              "\n",
              "    [theme=dark] .colab-df-convert:hover {\n",
              "      background-color: #434B5C;\n",
              "      box-shadow: 0px 1px 3px 1px rgba(0, 0, 0, 0.15);\n",
              "      filter: drop-shadow(0px 1px 2px rgba(0, 0, 0, 0.3));\n",
              "      fill: #FFFFFF;\n",
              "    }\n",
              "  </style>\n",
              "\n",
              "      <script>\n",
              "        const buttonEl =\n",
              "          document.querySelector('#df-208cddf4-e170-4791-a168-15822e82576e button.colab-df-convert');\n",
              "        buttonEl.style.display =\n",
              "          google.colab.kernel.accessAllowed ? 'block' : 'none';\n",
              "\n",
              "        async function convertToInteractive(key) {\n",
              "          const element = document.querySelector('#df-208cddf4-e170-4791-a168-15822e82576e');\n",
              "          const dataTable =\n",
              "            await google.colab.kernel.invokeFunction('convertToInteractive',\n",
              "                                                     [key], {});\n",
              "          if (!dataTable) return;\n",
              "\n",
              "          const docLinkHtml = 'Like what you see? Visit the ' +\n",
              "            '<a target=\"_blank\" href=https://colab.research.google.com/notebooks/data_table.ipynb>data table notebook</a>'\n",
              "            + ' to learn more about interactive tables.';\n",
              "          element.innerHTML = '';\n",
              "          dataTable['output_type'] = 'display_data';\n",
              "          await google.colab.output.renderOutput(dataTable, element);\n",
              "          const docLink = document.createElement('div');\n",
              "          docLink.innerHTML = docLinkHtml;\n",
              "          element.appendChild(docLink);\n",
              "        }\n",
              "      </script>\n",
              "    </div>\n",
              "  </div>\n",
              "  "
            ]
          },
          "metadata": {},
          "execution_count": 4
        }
      ]
    },
    {
      "cell_type": "code",
      "source": [
        "data.shape\n"
      ],
      "metadata": {
        "colab": {
          "base_uri": "https://localhost:8080/",
          "height": 0
        },
        "id": "4M3IVSqSiDEz",
        "outputId": "98aeaddd-84de-40bc-e635-2d36209e46ca"
      },
      "execution_count": 5,
      "outputs": [
        {
          "output_type": "execute_result",
          "data": {
            "text/plain": [
              "(891, 12)"
            ]
          },
          "metadata": {},
          "execution_count": 5
        }
      ]
    },
    {
      "cell_type": "code",
      "source": [
        "data.dtypes"
      ],
      "metadata": {
        "colab": {
          "base_uri": "https://localhost:8080/",
          "height": 0
        },
        "id": "Z-PbaCEeiFB3",
        "outputId": "19827631-9af4-4938-945d-04e500c164d1"
      },
      "execution_count": 6,
      "outputs": [
        {
          "output_type": "execute_result",
          "data": {
            "text/plain": [
              "PassengerId      int64\n",
              "Pclass           int64\n",
              "Name            object\n",
              "Sex             object\n",
              "Age            float64\n",
              "SibSp            int64\n",
              "Parch            int64\n",
              "Ticket          object\n",
              "Fare           float64\n",
              "Cabin           object\n",
              "Embarked        object\n",
              "Survived         int64\n",
              "dtype: object"
            ]
          },
          "metadata": {},
          "execution_count": 6
        }
      ]
    },
    {
      "cell_type": "markdown",
      "source": [
        "Проверим сколько у нас данных отсутсвует и будем решать что делать с ними"
      ],
      "metadata": {
        "id": "cN1o_LjWiIdA"
      }
    },
    {
      "cell_type": "code",
      "source": [
        "data.isna().sum()"
      ],
      "metadata": {
        "colab": {
          "base_uri": "https://localhost:8080/",
          "height": 0
        },
        "id": "BO_bSQJwiJE0",
        "outputId": "fca695d9-fe2d-4d56-c72e-c400a4cf3113"
      },
      "execution_count": 7,
      "outputs": [
        {
          "output_type": "execute_result",
          "data": {
            "text/plain": [
              "PassengerId      0\n",
              "Pclass           0\n",
              "Name             0\n",
              "Sex              0\n",
              "Age            177\n",
              "SibSp            0\n",
              "Parch            0\n",
              "Ticket           0\n",
              "Fare             0\n",
              "Cabin          687\n",
              "Embarked         2\n",
              "Survived         0\n",
              "dtype: int64"
            ]
          },
          "metadata": {},
          "execution_count": 7
        }
      ]
    },
    {
      "cell_type": "markdown",
      "source": [
        "Для наглядности покажем отсутствующие данные на тепловой диаграмме:"
      ],
      "metadata": {
        "id": "-qA5Bpd_oVd8"
      }
    },
    {
      "cell_type": "code",
      "source": [
        "sns.heatmap(data.isnull())"
      ],
      "metadata": {
        "colab": {
          "base_uri": "https://localhost:8080/",
          "height": 338
        },
        "id": "NCAIFBsoiJM-",
        "outputId": "f7021d53-80a1-4e99-a532-17ef47ed18f6"
      },
      "execution_count": 8,
      "outputs": [
        {
          "output_type": "execute_result",
          "data": {
            "text/plain": [
              "<matplotlib.axes._subplots.AxesSubplot at 0x7fc7739ba690>"
            ]
          },
          "metadata": {},
          "execution_count": 8
        },
        {
          "output_type": "display_data",
          "data": {
            "text/plain": [
              "<Figure size 432x288 with 2 Axes>"
            ],
            "image/png": "[encoded data removed]"
          },
          "metadata": {
            "needs_background": "light"
          }
        }
      ]
    },
    {
      "cell_type": "markdown",
      "source": [
        "В 'Cabin' отсутствует большое число записей. Убираем его - все равно эти данные не особо важны для нас."
      ],
      "metadata": {
        "id": "CN0UH0PYiP0R"
      }
    },
    {
      "cell_type": "code",
      "source": [
        "data = data.drop(columns=['Cabin'])"
      ],
      "metadata": {
        "id": "U4KSOh9OiJKh"
      },
      "execution_count": 9,
      "outputs": []
    },
    {
      "cell_type": "markdown",
      "source": [
        "Теперь, заполним пустые записи столбца 'Age' случайными значениями. Значения не абсолютно случайны - мы основываемся на существующих записях, на их основе и происходит генерация."
      ],
      "metadata": {
        "id": "AKnQLUTxiS82"
      }
    },
    {
      "cell_type": "code",
      "source": [
        "mean = data['Age'].mean()\n",
        "std = data['Age'].std() \n",
        "number_of_nulls = data['Age'].isnull().sum()\n",
        "random_ages = np.random.randint(mean - std, mean + std, size=number_of_nulls)"
      ],
      "metadata": {
        "id": "6SXJKjYfiJIK"
      },
      "execution_count": 10,
      "outputs": []
    },
    {
      "cell_type": "code",
      "source": [
        "new_ages = data['Age'].copy()\n",
        "new_ages[np.isnan(new_ages)] = random_ages\n",
        "data['Age'] = new_ages"
      ],
      "metadata": {
        "id": "ZvZWMaj3iG6z"
      },
      "execution_count": 11,
      "outputs": []
    },
    {
      "cell_type": "markdown",
      "source": [
        "Ещё раз посчитаем количество пустых полей"
      ],
      "metadata": {
        "id": "Rylby5HBooyE"
      }
    },
    {
      "cell_type": "code",
      "source": [
        "data.isna().sum()"
      ],
      "metadata": {
        "colab": {
          "base_uri": "https://localhost:8080/",
          "height": 0
        },
        "id": "3md4a7J2ibBx",
        "outputId": "016b6c4c-a5e2-4c2b-9fb3-317817f9bebc"
      },
      "execution_count": 12,
      "outputs": [
        {
          "output_type": "execute_result",
          "data": {
            "text/plain": [
              "PassengerId    0\n",
              "Pclass         0\n",
              "Name           0\n",
              "Sex            0\n",
              "Age            0\n",
              "SibSp          0\n",
              "Parch          0\n",
              "Ticket         0\n",
              "Fare           0\n",
              "Embarked       2\n",
              "Survived       0\n",
              "dtype: int64"
            ]
          },
          "metadata": {},
          "execution_count": 12
        }
      ]
    },
    {
      "cell_type": "markdown",
      "source": [
        "Снова тепловая диаграмма в помощь"
      ],
      "metadata": {
        "id": "do-DRjU2oeTC"
      }
    },
    {
      "cell_type": "code",
      "source": [
        "sns.heatmap(data.isnull())"
      ],
      "metadata": {
        "colab": {
          "base_uri": "https://localhost:8080/",
          "height": 338
        },
        "id": "tx5jnhkwiZpF",
        "outputId": "eca5ca0c-0a2c-4f4c-d7a6-bab2347ae657"
      },
      "execution_count": 13,
      "outputs": [
        {
          "output_type": "execute_result",
          "data": {
            "text/plain": [
              "<matplotlib.axes._subplots.AxesSubplot at 0x7fc770ba3f90>"
            ]
          },
          "metadata": {},
          "execution_count": 13
        },
        {
          "output_type": "display_data",
          "data": {
            "text/plain": [
              "<Figure size 432x288 with 2 Axes>"
            ],
            "image/png": "[encoded data removed]"
          },
          "metadata": {
            "needs_background": "light"
          }
        }
      ]
    },
    {
      "cell_type": "markdown",
      "source": [
        "Уже лучше - осталось лишь пара пустых полей.\n",
        "\n",
        "Добьёмся идеала - просто дропнем эти две записи с пустым полем 'Embarked'"
      ],
      "metadata": {
        "id": "X5_MYAIBieMP"
      }
    },
    {
      "cell_type": "code",
      "source": [
        "data = data[data['Embarked'].notnull()]"
      ],
      "metadata": {
        "id": "F00-X38Nic9N"
      },
      "execution_count": 14,
      "outputs": []
    },
    {
      "cell_type": "code",
      "source": [
        "\n",
        "data.isna().sum()"
      ],
      "metadata": {
        "colab": {
          "base_uri": "https://localhost:8080/",
          "height": 0
        },
        "id": "ROwsK0aYif75",
        "outputId": "0d0e4c68-b0cd-43c0-8780-edb9b090b57f"
      },
      "execution_count": 15,
      "outputs": [
        {
          "output_type": "execute_result",
          "data": {
            "text/plain": [
              "PassengerId    0\n",
              "Pclass         0\n",
              "Name           0\n",
              "Sex            0\n",
              "Age            0\n",
              "SibSp          0\n",
              "Parch          0\n",
              "Ticket         0\n",
              "Fare           0\n",
              "Embarked       0\n",
              "Survived       0\n",
              "dtype: int64"
            ]
          },
          "metadata": {},
          "execution_count": 15
        }
      ]
    },
    {
      "cell_type": "markdown",
      "source": [
        "Теперь уберем признаки, которые нам не пригодятся:\n",
        "- Имя\n",
        "- ID\n",
        "- Билет\n"
      ],
      "metadata": {
        "id": "p45PKbhaijdX"
      }
    },
    {
      "cell_type": "code",
      "source": [
        "data = data.drop(columns=['Name', 'PassengerId', 'Ticket'])"
      ],
      "metadata": {
        "id": "rNPU9onTihXl"
      },
      "execution_count": 16,
      "outputs": []
    },
    {
      "cell_type": "markdown",
      "source": [
        "Мы подготовили данные для первичного анализа\n",
        "\n",
        "Теперь попробуем выявить некоторые зависимости и  построить графики к ним\n",
        "\n",
        "\n",
        "Например, проверим, насколько класс пассажира влияет на шансы выжить"
      ],
      "metadata": {
        "id": "b06ZxKlbisoA"
      }
    },
    {
      "cell_type": "code",
      "source": [
        "sns.barplot(data=data, x='Pclass', y='Survived')"
      ],
      "metadata": {
        "colab": {
          "base_uri": "https://localhost:8080/",
          "height": 296
        },
        "id": "jVXm69nIilXS",
        "outputId": "0f266726-4079-4ffe-ba0e-117ebb04d091"
      },
      "execution_count": 17,
      "outputs": [
        {
          "output_type": "execute_result",
          "data": {
            "text/plain": [
              "<matplotlib.axes._subplots.AxesSubplot at 0x7fc770a95d10>"
            ]
          },
          "metadata": {},
          "execution_count": 17
        },
        {
          "output_type": "display_data",
          "data": {
            "text/plain": [
              "<Figure size 432x288 with 1 Axes>"
            ],
            "image/png": "[encoded data removed]"
          },
          "metadata": {
            "needs_background": "light"
          }
        }
      ]
    },
    {
      "cell_type": "markdown",
      "source": [
        "Как видим, существует некоторая зависимость: У пассажиров первого класса вероятность выжить наибольшая, у пассажиров третьего класса - наименьшая."
      ],
      "metadata": {
        "id": "JtHg1h-SqWDb"
      }
    },
    {
      "cell_type": "markdown",
      "source": [
        "Мы не сексисты, но проверим, влияет ли пол на шансы выжить"
      ],
      "metadata": {
        "id": "12OeMCfLjKdB"
      }
    },
    {
      "cell_type": "code",
      "source": [
        "sns.barplot(data=data, x='Sex', y='Survived')"
      ],
      "metadata": {
        "colab": {
          "base_uri": "https://localhost:8080/",
          "height": 296
        },
        "id": "Zv2guvCniuvD",
        "outputId": "29af12b5-eef5-4d5f-aa86-434c2da7284d"
      },
      "execution_count": 18,
      "outputs": [
        {
          "output_type": "execute_result",
          "data": {
            "text/plain": [
              "<matplotlib.axes._subplots.AxesSubplot at 0x7fc770a8a3d0>"
            ]
          },
          "metadata": {},
          "execution_count": 18
        },
        {
          "output_type": "display_data",
          "data": {
            "text/plain": [
              "<Figure size 432x288 with 1 Axes>"
            ],
            "image/png": "[encoded data removed]"
          },
          "metadata": {
            "needs_background": "light"
          }
        }
      ]
    },
    {
      "cell_type": "markdown",
      "source": [
        "У женщин вероятность выжить значительно больше - прям как с вероятностью дожить до пенсионного возраста.\n",
        "\n",
        "Проведем более глубокий анализ - добавим зависимость от возраста"
      ],
      "metadata": {
        "id": "6EMTZt5ErI08"
      }
    },
    {
      "cell_type": "code",
      "source": [
        "men = data[data['Sex']=='male']\n",
        "women = data[data['Sex']=='female']\n",
        "\n",
        "fig, axes = plt.subplots(1, 2, figsize=(15, 5))\n",
        "\n",
        "ax = sns.histplot(women[women['Survived']==1]['Age'], bins=20, label='Survived', ax = axes[0], color='blue')\n",
        "ax = sns.histplot(women[women['Survived']==0]['Age'], bins=20, label='Died', ax = axes[0], color='red')\n",
        "ax.legend()\n",
        "ax.set_title('Female')\n",
        "\n",
        "ax = sns.histplot(men[men['Survived']==0]['Age'], bins=20, label='Died', ax = axes[1], color='red')\n",
        "ax = sns.histplot(men[men['Survived']==1]['Age'], bins=20, label='Survived', ax = axes[1], color='blue')\n",
        "ax.legend()\n",
        "ax.set_title('Male')"
      ],
      "metadata": {
        "colab": {
          "base_uri": "https://localhost:8080/",
          "height": 367
        },
        "id": "vno0RvJIjQOZ",
        "outputId": "3972ab4d-6603-4c40-f568-965aef793964"
      },
      "execution_count": 19,
      "outputs": [
        {
          "output_type": "execute_result",
          "data": {
            "text/plain": [
              "Text(0.5, 1.0, 'Male')"
            ]
          },
          "metadata": {},
          "execution_count": 19
        },
        {
          "output_type": "display_data",
          "data": {
            "text/plain": [
              "<Figure size 1080x360 with 2 Axes>"
            ],
            "image/png": "[encoded data removed]"
          },
          "metadata": {
            "needs_background": "light"
          }
        }
      ]
    },
    {
      "cell_type": "markdown",
      "source": [
        "Мда, сначала думал,  где же я ошибку сделал - почему, женщины в большинстве выжили, а мужчины в основном как ДиКаприо...\n",
        "\n",
        "Но нет, графики корректны."
      ],
      "metadata": {
        "id": "VEyQM-68sC2H"
      }
    },
    {
      "cell_type": "markdown",
      "source": [
        "На последок выясним, влияет ли на шансы выжить наличие родственников:\n",
        "\n",
        "На первых двух отдельно выведем графики для 'Parch' и 'SibSp'\n",
        "\n",
        "Третий график - для объединения'Parch' и 'SibSp' в 'Relatives'"
      ],
      "metadata": {
        "id": "__PWCBWOtAD9"
      }
    },
    {
      "cell_type": "code",
      "source": [
        "fig, axes = plt.subplots(1, 3, figsize=(20, 5))\n",
        "\n",
        "ax = sns.barplot(data=data, x='SibSp', y='Survived', ax=axes[0])\n",
        "ax = sns.barplot(data=data, x='Parch', y='Survived', ax=axes[1])\n",
        "\n",
        "data['Relatives'] = data['Parch'] + data['SibSp']\n",
        "ax = sns.barplot(data=data, x='Relatives', y='Survived', ax=axes[2])\n",
        "plt.show()"
      ],
      "metadata": {
        "colab": {
          "base_uri": "https://localhost:8080/",
          "height": 334
        },
        "id": "47tyqZ64jV2r",
        "outputId": "b26fb82b-8e90-4014-e4a2-ef63aa2a89c8"
      },
      "execution_count": 20,
      "outputs": [
        {
          "output_type": "display_data",
          "data": {
            "text/plain": [
              "<Figure size 1440x360 with 3 Axes>"
            ],
            "image/png": "[encoded data removed]"
          },
          "metadata": {
            "needs_background": "light"
          }
        }
      ]
    },
    {
      "cell_type": "markdown",
      "source": [
        "Видно, что у людей с родственниками шансы выжить выше (интересно почему). "
      ],
      "metadata": {
        "id": "gqo55363t9o8"
      }
    },
    {
      "cell_type": "markdown",
      "source": [
        "В целом можно заменить Parch и SibSp на Relatives, чтобы уменьшить количество признаков - как будто это выглядит логично\n"
      ],
      "metadata": {
        "id": "BFtrsTm7tujw"
      }
    },
    {
      "cell_type": "code",
      "source": [
        "data['Relatives'] = data['Parch'] + data['SibSp']\n",
        "data = data.drop(columns=['SibSp', 'Parch'])"
      ],
      "metadata": {
        "id": "T-dxYrF_tsIo"
      },
      "execution_count": 21,
      "outputs": []
    },
    {
      "cell_type": "markdown",
      "source": [
        "## Итого:\n",
        "\n",
        "Первоначальный анализ \"руками\" показал, что есть зависимости между определенными признаками пассажиров и их шансами выжить при кораблекрушении, а также что у исследований в данном направлении есть потенциал. \n",
        "\n",
        "В целом приведенных данных достаточно, чтобы на их основе строить правдоподобную статистику."
      ],
      "metadata": {
        "id": "ULJRsE7vwVFN"
      }
    },
    {
      "cell_type": "code",
      "source": [
        ""
      ],
      "metadata": {
        "id": "d5rXfYmAxEwW"
      },
      "execution_count": 21,
      "outputs": []
    }
  ]
}